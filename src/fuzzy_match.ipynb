{
 "cells": [
  {
   "cell_type": "code",
   "execution_count": 1,
   "id": "acbe7f08",
   "metadata": {},
   "outputs": [],
   "source": [
    "from rapidfuzz import fuzz, process\n",
    "from helpers import get_all_kjv_syllables_str, text_to_syllables_str, get_all_kjv_words, get_clean_text"
   ]
  },
  {
   "cell_type": "code",
   "execution_count": 2,
   "id": "20641b73",
   "metadata": {},
   "outputs": [],
   "source": [
    "all_kjv_syllables_str = get_all_kjv_syllables_str()"
   ]
  },
  {
   "cell_type": "code",
   "execution_count": 3,
   "id": "d008630d",
   "metadata": {},
   "outputs": [
    {
     "name": "stdout",
     "output_type": "stream",
     "text": [
      "1111112113111211111321211\n"
     ]
    }
   ],
   "source": [
    "# https://hymnary.org/text/i_know_not_why_gods_wondrous_grace_to_me\n",
    "search_text = \"\"\"\n",
    "    But “I know whom I have believed,\n",
    "    and am persuaded that he is able\n",
    "    to keep that which I’ve committed\n",
    "    unto him against that day.”\n",
    "    \"\"\"\n",
    "search_syllables_str = text_to_syllables_str(search_text)\n",
    "print(search_syllables_str)"
   ]
  },
  {
   "cell_type": "code",
   "execution_count": 4,
   "id": "9391319f",
   "metadata": {},
   "outputs": [
    {
     "name": "stdout",
     "output_type": "stream",
     "text": [
      "[('1111112111311111111321211', 96.0, 93112), ('1111111211311121111131211', 96.0, 138748), ('1111112113111211111312111', 96.0, 138749), ('1111111211311121111121211', 96.0, 222955), ('1111112113111211111212111', 96.0, 222956), ('1111112111112111113121211', 96.0, 358398), ('1111112211311121111121211', 96.0, 724330), ('1111112113111211111132121', 96.0, 757980), ('1111121131112111111321211', 96.0, 757981)]\n"
     ]
    }
   ],
   "source": [
    "def get_fuzzy_matches(\n",
    "    search_syllables_str: str, kjv_syllables_str: str, score_cutoff: float\n",
    "):\n",
    "    \"\"\"\n",
    "    This function scans the entire kjv_syllables_str for matches with search_syllables_str.\n",
    "    Returns matches that have a score above the score_cutoff.\n",
    "\n",
    "    - Input:\n",
    "        - search_syllables_str: The short string to be a query\n",
    "            - e.g. '1111112113111211111321211'\n",
    "        - kjv_syllables_str: The long string to be searched\n",
    "            - e.g. '1132111111' + (...) + '111112111112'\n",
    "        - score_cutoff: The minimum score that will be returned\n",
    "            - e.g. 95.0\n",
    "    - Output\n",
    "        - list[tuple[\n",
    "            - matching_section: The string matching the query string\n",
    "                - e.g. '1111112113111211111132121'\n",
    "            - score: The score of this match\n",
    "                - e.g. 96.0\n",
    "            - index: The index of the first word in the kjv_syllables_str that matched the search_syllables_str\n",
    "                - e.g. 757980\n",
    "            ]]\n",
    "    \"\"\"\n",
    "    step = 1 \n",
    "    search_length = len(search_syllables_str)\n",
    "    full_length = len(kjv_syllables_str)\n",
    "    result = process.extract(\n",
    "        query=search_syllables_str,\n",
    "        choices=(\n",
    "            kjv_syllables_str[i : i + search_length]\n",
    "            for i in range(0, full_length - search_length + 1, step)\n",
    "        ),\n",
    "        scorer=fuzz.ratio,\n",
    "        limit=None,\n",
    "        score_cutoff=score_cutoff,\n",
    "    )\n",
    "    return result\n",
    "\n",
    "print(get_fuzzy_matches(search_syllables_str, all_kjv_syllables_str, 95)[0:10])"
   ]
  },
  {
   "cell_type": "code",
   "execution_count": 5,
   "id": "8c0952c1",
   "metadata": {},
   "outputs": [
    {
     "name": "stdout",
     "output_type": "stream",
     "text": [
      "['for', 'I', 'know', 'whom', 'I', 'have', 'believed', 'and', 'am', 'persuaded', 'that', 'he', 'is', 'able', 'to', 'keep', 'that', 'which', 'I', 'have', 'committed', 'unto', 'him', 'against', 'that']\n"
     ]
    }
   ],
   "source": [
    "all_kjv_words = get_all_kjv_words()\n",
    "print(all_kjv_words[757980 : 757980 + 25])"
   ]
  },
  {
   "cell_type": "code",
   "execution_count": 6,
   "id": "657d70f1",
   "metadata": {},
   "outputs": [
    {
     "name": "stdout",
     "output_type": "stream",
     "text": [
      "that / But\n",
      "he / I\n",
      "was / know\n",
      "sold / whom\n",
      "to / I\n",
      "him / have\n",
      "unto / believed\n",
      "the / and\n",
      "year / am\n",
      "of / persuaded\n",
      "jubilee / that\n",
      "and / he\n",
      "the / is\n",
      "price / able\n",
      "of / to\n",
      "his / keep\n",
      "sale / that\n",
      "shall / which\n",
      "be / Ive\n",
      "according / committed\n",
      "unto / unto\n",
      "the / him\n",
      "number / against\n",
      "of / that\n",
      "years / day\n"
     ]
    }
   ],
   "source": [
    "clean_search_text = get_clean_text(search_text)\n",
    "\n",
    "for i in range(0,25):\n",
    "    print(f\"{all_kjv_words[93112+i]} / {clean_search_text.split()[i]}\")"
   ]
  }
 ],
 "metadata": {
  "kernelspec": {
   "display_name": ".venv",
   "language": "python",
   "name": "python3"
  },
  "language_info": {
   "codemirror_mode": {
    "name": "ipython",
    "version": 3
   },
   "file_extension": ".py",
   "mimetype": "text/x-python",
   "name": "python",
   "nbconvert_exporter": "python",
   "pygments_lexer": "ipython3",
   "version": "3.13.7"
  }
 },
 "nbformat": 4,
 "nbformat_minor": 5
}
