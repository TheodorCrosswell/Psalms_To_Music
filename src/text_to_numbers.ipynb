{
 "cells": [
  {
   "cell_type": "code",
   "execution_count": 1,
   "id": "d47782aa",
   "metadata": {},
   "outputs": [],
   "source": [
    "from helpers import get_all_kjv_words, get_syllable_count, get_clean_text\n",
    "from polyleven import levenshtein\n",
    "import re\n",
    "from time import time\n",
    "from rapidfuzz import fuzz, process"
   ]
  },
  {
   "cell_type": "code",
   "execution_count": 2,
   "id": "e3aadca6",
   "metadata": {},
   "outputs": [
    {
     "name": "stdout",
     "output_type": "stream",
     "text": [
      "Number of words in KJV: 789627\n",
      "In: 1\n",
      "the: 1\n",
      "beginning: 3\n",
      "God: 1\n",
      "created: 3\n",
      "the: 1\n",
      "heaven: 2\n",
      "and: 1\n",
      "the: 1\n",
      "earth: 1\n"
     ]
    }
   ],
   "source": [
    "all_kjv_words = get_all_kjv_words(\"../data/kjv.txt\")\n",
    "all_kjv_syllables = []\n",
    "\n",
    "# Convert every word to a syllable count.\n",
    "for word in all_kjv_words:\n",
    "    syllable_count = get_syllable_count(word)\n",
    "    all_kjv_syllables.append(syllable_count)\n",
    "\n",
    "print(f\"Number of words in KJV: {len(all_kjv_words)}\")\n",
    "\n",
    "for i in range(0,10):\n",
    "    print(f\"{all_kjv_words[i]}: {all_kjv_syllables[i]}\")"
   ]
  },
  {
   "cell_type": "code",
   "execution_count": 3,
   "id": "4c00cd0c",
   "metadata": {},
   "outputs": [
    {
     "name": "stdout",
     "output_type": "stream",
     "text": [
      "\n",
      "  God be merciful unto us and bless us and cause his face to shine upon us Selah\n",
      "\n",
      " That thy way may be known upon earth thy saving health among all nations\n",
      "\n",
      " Let the people praise thee O God let all the people praise thee\n",
      "\n",
      " O let the nations be glad and sing for joy\n",
      "\n"
     ]
    }
   ],
   "source": [
    "# Psalm 67 has a tune. Let's see if it matches the rest of the verses in Psalm 67.\n",
    "# The \"Selah\" is not included in the tune.\n",
    "search_text = \"\"\"\n",
    "67 1 God be merciful unto us, and bless us; and cause his face to shine upon us; Selah.\n",
    "\n",
    "2 That thy way may be known upon earth, thy saving health among all nations.\n",
    "\n",
    "3 Let the people praise thee, O God; let all the people praise thee.\n",
    "\n",
    "4 O let the nations be glad and sing for joy:\n",
    "\"\"\"\n",
    "\n",
    "clean_search_text = get_clean_text(search_text)\n",
    "print(clean_search_text)"
   ]
  },
  {
   "cell_type": "code",
   "execution_count": 4,
   "id": "184c226e",
   "metadata": {},
   "outputs": [
    {
     "name": "stdout",
     "output_type": "stream",
     "text": [
      "Psalm 67 - 54 words\n",
      "God: 1\n",
      "be: 1\n",
      "merciful: 3\n",
      "unto: 2\n",
      "us: 1\n",
      "and: 1\n",
      "bless: 1\n",
      "us: 1\n",
      "and: 1\n",
      "cause: 1\n"
     ]
    }
   ],
   "source": [
    "search_words = clean_search_text.split()\n",
    "search_syllables = [get_syllable_count(word) for word in search_words]\n",
    "\n",
    "print(f\"Psalm 67 - {len(search_words)} words\")\n",
    "\n",
    "for i in range(0, 10):\n",
    "    print(f\"{search_words[i]}: {search_syllables[i]}\")"
   ]
  },
  {
   "cell_type": "code",
   "execution_count": 5,
   "id": "da371479",
   "metadata": {},
   "outputs": [
    {
     "name": "stdout",
     "output_type": "stream",
     "text": [
      "List index matching: e.g. [1, 1, 3, 2, 1, 1, 1, 1, 1, 1]\n",
      "get_exact_match: 0.17 seconds\n",
      "Number of exact matches: 1\n",
      "Locations of exact matches: [396659]\n",
      "\n",
      "List index matching (optimized): e.g. [1, 1, 3, 2, 1, 1, 1, 1, 1, 1]\n",
      "get_exact_match: 0.08 seconds\n",
      "Number of exact matches: 1\n",
      "Locations of exact matches: [396659]\n",
      "\n",
      "list_to_str: 0.09 seconds\n",
      "list_to_str: 0.00 seconds\n",
      "\n",
      "String/substring matching: e.g. '1132111111'\n",
      "get_exact_match: 0.16 seconds\n",
      "Number of exact matches: 1\n",
      "Locations of exact matches: [396659]\n",
      "\n",
      "String/substring matching (optimized): e.g. '1132111111'\n",
      "get_exact_match: 0.08 seconds\n",
      "Number of exact matches: 1\n",
      "Locations of exact matches: [396659]\n"
     ]
    }
   ],
   "source": [
    "# The exact match algorithms: \n",
    "\n",
    "# Tests of storing the syllables as a string, e.g. \"1132111111\" (str) vs [1,1,3,2,1,1,1,1,1,1] (list[int])\n",
    "# have concluded that there is little or no difference at this scale, but converting the list to an int is indeed expensive.\n",
    "\n",
    "def get_exact_match(main_syllables: str | list[int], search_syllables: str | list[int]):\n",
    "    \"\"\"Gets the locations of all exact matches by iteratively\n",
    "    comparing each element of search_syllables to the elements\n",
    "    in main_syllables, skipping the rest of the check if a mismatch is found.\n",
    "\n",
    "    Accepts input as:\n",
    "    - \"1132111111\" (str) \n",
    "    - [1,1,3,2,1,1,1,1,1,1] (list[int])\"\"\"\n",
    "    match_locations = []\n",
    "    start_time = time()\n",
    "    for i in range(0, len(main_syllables)):\n",
    "        match_flag = True\n",
    "        for j in range(0, len(search_syllables)):\n",
    "            # Not a match, break out of the loop and skip checking the rest for this position.\n",
    "            if main_syllables[i + j] != search_syllables[j]:\n",
    "                match_flag = False\n",
    "                break\n",
    "        if match_flag:\n",
    "            match_locations.append(i)\n",
    "    end_time = time()\n",
    "    print(f\"get_exact_match: {end_time - start_time:.2f} seconds\")\n",
    "    print(f\"Number of exact matches: {len(match_locations)}\")\n",
    "    print(f\"Locations of exact matches: {match_locations}\")\n",
    "\n",
    "\n",
    "def get_exact_match_optimized(\n",
    "    main_syllables: str | list[int], search_syllables: str | list[int]\n",
    "):\n",
    "    \"\"\"Gets the locations of all exact matches by iteratively\n",
    "    comparing each element of search_syllables to the elements\n",
    "    in main_syllables, skipping the rest of the check if a mismatch is found.\n",
    "\n",
    "    Optimization: Finds the max value of search_syllables, then searches for that max value,\n",
    "    and facilitates a faster search, because the max value is rarer than 1s or 2s\n",
    "\n",
    "    In testing, this optimization resulted in 100% speedup vs non-optimized version: 0.16s -> 0.08s\n",
    "\n",
    "    Accepts input as:\n",
    "    - \"1132111111\" (str)\n",
    "    - [1,1,3,2,1,1,1,1,1,1] (list[int])\"\"\"\n",
    "    match_locations = []\n",
    "    start_time = time()\n",
    "    peak = max(search_syllables)\n",
    "    peak_index = search_syllables.index(peak)\n",
    "    for i in range(0, len(main_syllables)):\n",
    "        if i + peak_index > len(main_syllables) - 1:\n",
    "            break\n",
    "        elif main_syllables[i+peak_index] != peak:\n",
    "            continue\n",
    "        match_flag = True\n",
    "        for j in range(0, len(search_syllables)):\n",
    "            # Not a match, break out of the loop and skip checking the rest for this position.\n",
    "            if main_syllables[i + j] != search_syllables[j]:\n",
    "                match_flag = False\n",
    "                break\n",
    "        if match_flag:\n",
    "            match_locations.append(i)\n",
    "    end_time = time()\n",
    "    print(f\"get_exact_match: {end_time - start_time:.2f} seconds\")\n",
    "    print(f\"Number of exact matches: {len(match_locations)}\")\n",
    "    print(f\"Locations of exact matches: {match_locations}\")\n",
    "\n",
    "\n",
    "def list_to_str(the_list: list[int]):\n",
    "    start_time = time()\n",
    "\n",
    "    the_str = \"\"\n",
    "    for item in the_list:\n",
    "        the_str += str(item)\n",
    "\n",
    "    end_time = time()\n",
    "\n",
    "    print(f\"list_to_str: {end_time - start_time:.2f} seconds\")\n",
    "\n",
    "    return the_str\n",
    "\n",
    "\n",
    "print(f\"List index matching: e.g. {search_syllables[0:10]}\")\n",
    "\n",
    "get_exact_match(all_kjv_syllables, search_syllables)\n",
    "\n",
    "print()\n",
    "\n",
    "print(f\"List index matching (optimized): e.g. {search_syllables[0:10]}\")\n",
    "\n",
    "get_exact_match_optimized(all_kjv_syllables, search_syllables)\n",
    "\n",
    "print()\n",
    "\n",
    "\n",
    "all_kjv_syllables_str = list_to_str(all_kjv_syllables)\n",
    "search_syllables_str = list_to_str(search_syllables)\n",
    "\n",
    "print()\n",
    "\n",
    "print(f\"String/substring matching: e.g. '{search_syllables_str[0:10]}'\")\n",
    "\n",
    "get_exact_match(all_kjv_syllables_str, search_syllables_str)\n",
    "\n",
    "print()\n",
    "\n",
    "print(f\"String/substring matching (optimized): e.g. '{search_syllables_str[0:10]}'\")\n",
    "\n",
    "get_exact_match_optimized(all_kjv_syllables_str, search_syllables_str)"
   ]
  },
  {
   "cell_type": "code",
   "execution_count": null,
   "id": "51f02495",
   "metadata": {},
   "outputs": [
    {
     "data": {
      "text/plain": [
       "ScoreAlignment(score=100.0, src_start=396659, src_end=396713, dest_start=0, dest_end=54)"
      ]
     },
     "execution_count": 16,
     "metadata": {},
     "output_type": "execute_result"
    }
   ],
   "source": [
    "# For queries under 64 words, this returns the guaranteed closest match\n",
    "fuzz.partial_ratio_alignment(\n",
    "    all_kjv_syllables_str, # KJV Bible\n",
    "    search_syllables_str # Psalm 67\n",
    ")"
   ]
  }
 ],
 "metadata": {
  "kernelspec": {
   "display_name": ".venv",
   "language": "python",
   "name": "python3"
  },
  "language_info": {
   "codemirror_mode": {
    "name": "ipython",
    "version": 3
   },
   "file_extension": ".py",
   "mimetype": "text/x-python",
   "name": "python",
   "nbconvert_exporter": "python",
   "pygments_lexer": "ipython3",
   "version": "3.13.7"
  }
 },
 "nbformat": 4,
 "nbformat_minor": 5
}
