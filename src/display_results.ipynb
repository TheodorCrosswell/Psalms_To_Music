{
 "cells": [
  {
   "cell_type": "code",
   "execution_count": 1,
   "id": "950f2f81",
   "metadata": {},
   "outputs": [],
   "source": [
    "from helpers import text_to_words_syllables_str, get_all_kjv_words_syllables_str\n",
    "from pyphen import Pyphen"
   ]
  },
  {
   "cell_type": "code",
   "execution_count": 2,
   "id": "ca7ebbcc",
   "metadata": {},
   "outputs": [
    {
     "name": "stdout",
     "output_type": "stream",
     "text": [
      "But I know whom I have believed and am persuaded that he is able to keep that which Ive committed unto him against that day\n"
     ]
    }
   ],
   "source": [
    "words, syllables = text_to_words_syllables_str(\n",
    "    \"\"\"\n",
    "    But “I know whom I have believed,\n",
    "    and am persuaded that he is able\n",
    "    to keep that which I’ve committed\n",
    "    unto him against that day.”\n",
    "    \"\"\"\n",
    ")\n",
    "\n",
    "print(\" \".join(words))\n",
    "\n",
    "hyphenator = Pyphen(lang=\"en_GB\")\n",
    "all_kjv_words, all_kjv_syllables = get_all_kjv_words_syllables_str()\n",
    "multisyllable_words = []\n",
    "for i in range(len(all_kjv_syllables)):\n",
    "    if all_kjv_syllables[i] != \"1\":\n",
    "        multisyllable_words.append((all_kjv_words[i], all_kjv_syllables[i]))"
   ]
  },
  {
   "cell_type": "code",
   "execution_count": 3,
   "id": "3696dafb",
   "metadata": {},
   "outputs": [
    {
     "name": "stdout",
     "output_type": "stream",
     "text": [
      "1111112113\n"
     ]
    }
   ],
   "source": [
    "print(syllables[:10])"
   ]
  },
  {
   "cell_type": "code",
   "execution_count": 4,
   "id": "7662b142",
   "metadata": {},
   "outputs": [
    {
     "name": "stdout",
     "output_type": "stream",
     "text": [
      "beginning, 3: be-gin-ning\n",
      "created, 3: cr-eat-ed\n",
      "heaven, 2: heav-en\n",
      "without, 2: with-out\n",
      "darkness, 2: dark-ness\n",
      "upon, 2: up-on\n",
      "Spirit, 2: Spir-it\n",
      "upon, 2: up-on\n",
      "waters, 2: wa-ters\n",
      "divided, 3: di-vid-ed\n"
     ]
    }
   ],
   "source": [
    "def hyphenate_word(word: str, syllable_count: int | str, hyphenator: Pyphen):\n",
    "    \"\"\"\n",
    "    Hyphenates a word based on a given syllable count.\n",
    "    It first tries to use the Pyphen library. If the result does not match the\n",
    "    syllable_count, it falls back to a method that divides the word into\n",
    "    roughly equal parts.\n",
    "    \"\"\"\n",
    "    # Arbitrary decision: use Pyphen(lang=\"en_GB\") as opposed to \"en_US\"\n",
    "    # Let Pyphen attempt to hyphenate the word first.\n",
    "    hyphenated_word = hyphenator.inserted(word)\n",
    "\n",
    "    syllable_count = int(syllable_count)\n",
    "\n",
    "    # Check if Pyphen's hyphenation matches the desired syllable count.\n",
    "    # The number of hyphens should be one less than the number of syllables.\n",
    "    if hyphenated_word.count(\"-\") == syllable_count - 1:\n",
    "        return hyphenated_word\n",
    "    else:\n",
    "        # If Pyphen's output is not correct, use a fallback method.\n",
    "        # For a single syllable word, no hyphens are needed.\n",
    "        if syllable_count <= 1:\n",
    "            return word\n",
    "\n",
    "        word_len = len(word)\n",
    "        step = word_len / syllable_count\n",
    "\n",
    "        parts = []\n",
    "        last_cut = 0\n",
    "        for i in range(1, syllable_count):\n",
    "            # Calculate the position for the next hyphen.\n",
    "            cut = round(i * step)\n",
    "            parts.append(word[last_cut:cut])\n",
    "            last_cut = cut\n",
    "        parts.append(word[last_cut:])\n",
    "        return \"-\".join(parts)\n",
    "\n",
    "\n",
    "for word, syllable_count in multisyllable_words[0:10]:\n",
    "    print(f\"{word}, {syllable_count}: {hyphenate_word(word, int(syllable_count), hyphenator)}\")"
   ]
  },
  {
   "cell_type": "code",
   "execution_count": 5,
   "id": "75a4c62c",
   "metadata": {},
   "outputs": [
    {
     "name": "stdout",
     "output_type": "stream",
     "text": [
      "      for               But       / 1   1\n",
      "       I                 I        / 1   1\n",
      "     know              know       / 1   1\n",
      "     whom              whom       / 1   1\n",
      "       I                 I        / 1   1\n",
      "     have              have       / 1   1\n",
      "   be-lieved         be-lieved    / 2   2\n",
      "      and               and       / 1   1\n",
      "      am                am        / 1   1\n",
      "  per-sua-ded       per-sua-ded   / 3   3\n",
      "     that              that       / 1   1\n",
      "      he                he        / 1   1\n",
      "      is                is        / 1   1\n",
      "     ab-le             ab-le      / 2   2\n",
      "      to                to        / 1   1\n",
      "     keep              keep       / 1   1\n",
      "     that              that       / 1   1\n",
      "     which             which      / 1   1\n",
      "       I                Ive       / 1   1\n",
      "     have       X   com-mit-ted   / 1 X 3\n",
      "  com-mit-ted   X      un-to      / 3 X 2\n",
      "     un-to      X       him       / 2 X 1\n",
      "      him       X    agai-nst     / 1 X 2\n",
      "   agai-nst     X      that       / 2 X 1\n",
      "     that               day       / 1   1\n",
      "\n"
     ]
    }
   ],
   "source": [
    "def validate_words_syllables_search_parameters(\n",
    "    words_long: list[str],\n",
    "    words_short: list[str],\n",
    "    syllables_long: str,\n",
    "    syllables_short: str,\n",
    ") -> None:\n",
    "    if len(words_long) != len(syllables_long):\n",
    "        raise ValueError(\n",
    "            f\"Length mismatch. Must be equal: len(words_long) = {len(words_long)}, len(syllables_long) = {len(syllables_long)}\"\n",
    "        )\n",
    "    elif len(words_short) != len(syllables_short):\n",
    "        raise ValueError(\n",
    "            f\"Length mismatch. Must be equal: len(words_short) = {len(words_short)}, len(syllables_short) = {len(syllables_short)}\"\n",
    "        )\n",
    "    elif len(words_long) < len(words_short):\n",
    "        raise ValueError(\n",
    "            f\"Length mismatch. len(words_long) must be >= len(words_short): len(words_long) = {len(words_long)}, len(words_short) = {len(words_short)}\"\n",
    "        )\n",
    "    elif len(syllables_long) < len(syllables_short):\n",
    "        raise ValueError(\n",
    "            f\"Length mismatch. len(syllables_long) must be >= len(syllables_short): len(syllables_long) = {len(syllables_long)}, len(syllables_short) = {len(syllables_short)}\"\n",
    "        )\n",
    "\n",
    "\n",
    "def match_results_to_text(\n",
    "    words_long: list[str],\n",
    "    words_short: list[str],\n",
    "    syllables_long: str,\n",
    "    syllables_short: str,\n",
    "    index: int = 0,\n",
    "    hyphenator: Pyphen = hyphenator,\n",
    "):\n",
    "    validate_words_syllables_search_parameters(\n",
    "        words_long, words_short, syllables_long, syllables_short\n",
    "    )\n",
    "    output_string = \"\"\n",
    "    for i in range(len(words_short)):\n",
    "        word_long = words_long[index + i]\n",
    "        word_short = words_short[i]\n",
    "        syllable_long = syllables_long[index + i]\n",
    "        syllable_short = syllables_short[i]\n",
    "        if syllable_long != \"1\":\n",
    "            word_long = hyphenate_word(word_long, syllable_long, hyphenator)\n",
    "        if syllable_short != \"1\":\n",
    "            word_short = hyphenate_word(word_short, syllable_short, hyphenator)\n",
    "        indicator = \" \"\n",
    "        if syllable_long != syllable_short:\n",
    "            indicator = \"X\"\n",
    "        output_string += f\"{word_long:^15} {indicator} {word_short:^15} / {syllable_long} {indicator} {syllable_short}\\n\"\n",
    "    return output_string    \n",
    "    \n",
    "\n",
    "print(match_results_to_text(all_kjv_words, words, all_kjv_syllables, syllables, 757980))"
   ]
  }
 ],
 "metadata": {
  "kernelspec": {
   "display_name": ".venv",
   "language": "python",
   "name": "python3"
  },
  "language_info": {
   "codemirror_mode": {
    "name": "ipython",
    "version": 3
   },
   "file_extension": ".py",
   "mimetype": "text/x-python",
   "name": "python",
   "nbconvert_exporter": "python",
   "pygments_lexer": "ipython3",
   "version": "3.13.7"
  }
 },
 "nbformat": 4,
 "nbformat_minor": 5
}
