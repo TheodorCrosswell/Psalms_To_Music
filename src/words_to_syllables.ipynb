{
 "cells": [
  {
   "cell_type": "code",
   "execution_count": 1,
   "id": "63c5b622",
   "metadata": {},
   "outputs": [],
   "source": [
    "from nltk.corpus import cmudict\n",
    "import re"
   ]
  },
  {
   "cell_type": "code",
   "execution_count": 2,
   "id": "a8e371eb",
   "metadata": {},
   "outputs": [
    {
     "name": "stdout",
     "output_type": "stream",
     "text": [
      "Total number of unique words: 13734\n"
     ]
    }
   ],
   "source": [
    "with open(\"../data/kjv.txt\", \"r\") as file:\n",
    "    text = file.read()\n",
    "\n",
    "text = re.sub(r\"[.,:;'()?!]\", \"\", text)\n",
    "\n",
    "all_kjv_words = set()\n",
    "\n",
    "for word in text.split():\n",
    "    all_kjv_words.add(word)\n",
    "\n",
    "all_kjv_words = list(all_kjv_words)\n",
    "\n",
    "print(f\"Total number of unique words: {len(all_kjv_words)}\")"
   ]
  },
  {
   "cell_type": "code",
   "execution_count": 3,
   "id": "5a4b73c6",
   "metadata": {},
   "outputs": [
    {
     "name": "stdout",
     "output_type": "stream",
     "text": [
      "    List of all words in KJV, unrecognized by CMUDict and not caught by this filter.\n",
      "    These words need to be manually mapped to a syllable count:\n",
      "straiteneth\n",
      "favourest\n",
      "savourest\n",
      "hearkeneth\n",
      "appertaineth\n",
      "bewaileth\n",
      "reproveth\n",
      "smotest\n",
      "vaunteth\n",
      "dishonoureth\n",
      "defileth\n",
      "dishonourest\n",
      "honoureth\n",
      "forbeareth\n",
      "disannulleth\n",
      "prophesieth\n",
      "contemneth\n",
      "swarest\n",
      "wotteth\n",
      "bewrayeth\n",
      "stablisheth\n",
      "intermeddleth\n"
     ]
    }
   ],
   "source": [
    "pronunciations = cmudict.dict()\n",
    "\n",
    "def count_syllables_cmudict(word: str, pronunciations: dict):\n",
    "    \"\"\"Counts the syllables in a word using NLTK's CMUDict.\"\"\"\n",
    "    if word.lower() in pronunciations:\n",
    "        # A word can have multiple pronunciations, we'll use the first one.\n",
    "        return len(\n",
    "            [\n",
    "                phoneme\n",
    "                for phoneme in pronunciations[word.lower()][0]\n",
    "                if phoneme[-1].isdigit()\n",
    "            ]\n",
    "        )\n",
    "    else:\n",
    "        return 0\n",
    "\n",
    "\n",
    "print(\"\"\"    List of all words in KJV, unrecognized by CMUDict and not caught by this filter.\n",
    "    These words need to be manually mapped to a syllable count:\"\"\")\n",
    "\n",
    "words_to_be_estimated_or_manually_entered = []\n",
    "\n",
    "for word in all_kjv_words:\n",
    "    # If word is unrecognized by CMUDict:\n",
    "    if count_syllables_cmudict(word, pronunciations) == 0:\n",
    "        # If word is not all lowercase, it is probably just a name:\n",
    "        # e.g. \"Ashdothpisgah\", \"A\" is not lowercase, and it is a name.\n",
    "        if not str.islower(word):\n",
    "            continue\n",
    "        # If word ends with \"est\" or \"eth\", it is probably just a normal word with that suffix.\n",
    "        # e.g. \"asketh\" -> \"ask\" + \"eth\"\n",
    "        word_suffix = word[-3:]\n",
    "        if word_suffix == \"eth\" or word_suffix == \"est\":\n",
    "            # If the word is still not recognized, even after taking off \"st\" or \"th\" or \"est\" or \"eth\":\n",
    "            # e.g. \"forbeareth\" -> \"forbear\" is still not recognized\n",
    "            if (\n",
    "                count_syllables_cmudict(word[:-3], pronunciations)\n",
    "                == 0 and count_syllables_cmudict(word[:-2], pronunciations)\n",
    "                == 0\n",
    "            ):\n",
    "                # If word ends with \"ieth\" or \"iest\", and still cannot be recognized by changing the \"i\" to a \"y\":\n",
    "                # e.g. \"intermeddleth\" -> \"intermeddle\" is still not recognized\n",
    "                if count_syllables_cmudict(re.sub(r\"(iest$|ieth$|est$|eth$)\", \"y\", word), pronunciations) == 0:\n",
    "                    # If removing an additional character from the end still does not allow it to be recognized:\n",
    "                    # e.g. \"blasphemest\" -> \"blasphe\" is not recognized by CMUDict\n",
    "                    if count_syllables_cmudict(word[:-4], pronunciations) == 0:\n",
    "                        print(word)\n",
    "                    # If the word had an extra character, which was stopping it from being recognized\n",
    "                    # e.g. \"slippeth\" -> \"slip\", which can now be recognized\n",
    "                    else:\n",
    "                        continue\n",
    "                # If the word is now recognized, after changing \"ieth\" or \"iest\" to \"y\":\n",
    "                # e.g. \"repliest\" -> \"reply\", which can now be recognized\n",
    "                # e.g. \"blashpemest\" -> \"blasphemy\", which can now be recognized\n",
    "                else:\n",
    "                    continue\n",
    "            # If the word is now recognized, after removing the suffix:\n",
    "            # e.g. \"removeth\" -> \"remove\" + \"th\"\n",
    "            # e.g. \"staggereth\" -> \"stagger\" + \"eth\"\n",
    "            else:\n",
    "                continue\n",
    "        else:\n",
    "            continue\n",
    "    # If word is recognized by CMUDict:\n",
    "    else:\n",
    "        continue"
   ]
  }
 ],
 "metadata": {
  "kernelspec": {
   "display_name": ".venv",
   "language": "python",
   "name": "python3"
  },
  "language_info": {
   "codemirror_mode": {
    "name": "ipython",
    "version": 3
   },
   "file_extension": ".py",
   "mimetype": "text/x-python",
   "name": "python",
   "nbconvert_exporter": "python",
   "pygments_lexer": "ipython3",
   "version": "3.13.7"
  }
 },
 "nbformat": 4,
 "nbformat_minor": 5
}
